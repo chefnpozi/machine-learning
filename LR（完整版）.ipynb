{
 "cells": [
  {
   "cell_type": "code",
   "execution_count": null,
   "metadata": {},
   "outputs": [],
   "source": [
    "import numpy as np\n",
    "import pandas as pd\n",
    "import matplotlib.pyplot as plt\n",
    "from sklearn.model_selection import train_test_split\n",
    "%matplotlib inline"
   ]
  },
  {
   "cell_type": "code",
   "execution_count": null,
   "metadata": {},
   "outputs": [],
   "source": [
    "dataSet = pd.read_table('testSet.txt',header = None)\n",
    "dataSet.columns = ['X1','X2','labels'] #加标签\n",
    "dataSet.head()"
   ]
  },
  {
   "cell_type": "code",
   "execution_count": null,
   "metadata": {},
   "outputs": [],
   "source": [
    "plt.figure()\n",
    "plt.scatter(dataSet[dataSet['labels'] == 0]['X1'],dataSet[dataSet['labels'] == 0]['X2'],c = 'red')\n",
    "plt.scatter(dataSet[dataSet['labels'] == 1]['X1'],dataSet[dataSet['labels'] == 1]['X2'],c = 'blue')\n",
    "plt.show() #散点图"
   ]
  },
  {
   "cell_type": "code",
   "execution_count": null,
   "metadata": {},
   "outputs": [],
   "source": [
    "def sigmoid(x):\n",
    "    return 1 / (1 + np.exp(-x))"
   ]
  },
  {
   "cell_type": "code",
   "execution_count": null,
   "metadata": {},
   "outputs": [],
   "source": [
    "M = np.linspace(-5,5,200)\n",
    "N = [sigmoid(i) for i in M]\n",
    "plt.plot(M,N)\n",
    "plt.show()"
   ]
  },
  {
   "cell_type": "code",
   "execution_count": null,
   "metadata": {},
   "outputs": [],
   "source": [
    "def regularize(xMat):                #方便梯度下降收敛\n",
    "    inMat = xMat.copy()\n",
    "    inMean = np.mean(inMat,axis = 0) #求均值\n",
    "    inStd = np.std(inMat,axis = 0)   #求标准差\n",
    "    inMat = (inMat - inMean) / inStd\n",
    "    return inMat"
   ]
  },
  {
   "cell_type": "code",
   "execution_count": null,
   "metadata": {},
   "outputs": [],
   "source": [
    "xMat = np.mat(dataSet.iloc[:,:-1].values)    #特征\n",
    "YMat = np.mat(dataSet.iloc[:,-1].values).T   #标签"
   ]
  },
  {
   "cell_type": "code",
   "execution_count": null,
   "metadata": {},
   "outputs": [],
   "source": [
    "XMat = regularize(xMat)                      #标准化\n",
    "#XMat\n",
    "XMat = np.insert(XMat, 0, 1, axis = 1)       #加入 b 的系数 1\n",
    "XMat.shape"
   ]
  },
  {
   "cell_type": "code",
   "execution_count": null,
   "metadata": {},
   "outputs": [],
   "source": [
    "Xtrain, Xtest, Ytrain, Ytest = train_test_split(XMat,YMat,test_size=0.2)\n",
    "Xtrain.shape"
   ]
  },
  {
   "cell_type": "code",
   "execution_count": null,
   "metadata": {},
   "outputs": [],
   "source": [
    "w = np.zeros([3,1])\n",
    "w"
   ]
  },
  {
   "cell_type": "code",
   "execution_count": null,
   "metadata": {},
   "outputs": [],
   "source": [
    "def cost(Xtrain,Ytrain,weight):\n",
    "    left = -Ytrain * np.log(sigmoid(Xtrain.dot(weight)))\n",
    "    right = (1 - Ytrain) * np.log(1 - sigmoid(Xtrain.dot(weight)))\n",
    "    return np.sum(left - right) / len(Xtrain)"
   ]
  },
  {
   "cell_type": "code",
   "execution_count": null,
   "metadata": {},
   "outputs": [],
   "source": [
    "\n",
    "def Lr_Grad(Xtrain, Ytrain, weight):\n",
    "    alpha = 0.001\n",
    "    maxCycles = 50000\n",
    "    grad = np.zeros(weight.shape)\n",
    "    \n",
    "    for i in range(maxCycles):\n",
    "        error = Ytrain - sigmoid(Xtrain.dot(weight)) #算\n",
    "        for j in range(len(weight.flatten())):       #梯\n",
    "            term = error.T.dot(Xtrain[:,j])          #度\n",
    "            grad[j] = -term / len(Xtrain)            #\n",
    "        weight = weight - alpha * grad\n",
    "    return weight\n"
   ]
  },
  {
   "cell_type": "code",
   "execution_count": null,
   "metadata": {},
   "outputs": [],
   "source": [
    "def LrAcc(Xtest, Ytest, weight):\n",
    "    p = sigmoid(Xtest.dot(weight)).A.flatten()\n",
    "    for i,j in enumerate(p):\n",
    "        if j < 0.5:\n",
    "            p[i] = 0\n",
    "        else:\n",
    "            p[i] = 1\n",
    "    train_error = (np.fabs(Ytest.A.flatten() - p)).sum()   #异或求错误的个数\n",
    "    trainAcc = 1 - (train_error / Ytest.shape[0])\n",
    "    return trainAcc"
   ]
  },
  {
   "cell_type": "code",
   "execution_count": null,
   "metadata": {},
   "outputs": [],
   "source": [
    "w = Lr_Grad(Xtrain,Ytrain,w)\n",
    "w"
   ]
  },
  {
   "cell_type": "code",
   "execution_count": null,
   "metadata": {},
   "outputs": [],
   "source": [
    "LrAcc(Xtest, Ytest, w)"
   ]
  }
 ],
 "metadata": {
  "kernelspec": {
   "display_name": "Python 3",
   "language": "python",
   "name": "python3"
  },
  "language_info": {
   "codemirror_mode": {
    "name": "ipython",
    "version": 3
   },
   "file_extension": ".py",
   "mimetype": "text/x-python",
   "name": "python",
   "nbconvert_exporter": "python",
   "pygments_lexer": "ipython3",
   "version": "3.6.10"
  }
 },
 "nbformat": 4,
 "nbformat_minor": 4
}
